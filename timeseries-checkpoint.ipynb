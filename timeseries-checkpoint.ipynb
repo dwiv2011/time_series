{
 "cells": [
  {
   "cell_type": "code",
   "execution_count": 6,
   "metadata": {},
   "outputs": [],
   "source": [
    "import os\n",
    "os.chdir(\"C:\\\\Users\\\\Dwiv2\\\\OneDrive\\\\Desktop\\\\Learning\\\\Time S\")\n",
    "\n"
   ]
  },
  {
   "cell_type": "code",
   "execution_count": 7,
   "metadata": {
    "scrolled": true
   },
   "outputs": [],
   "source": [
    "import pandas as pd\n",
    "import numpy as np\n",
    "import matplotlib.pyplot as plt\n",
    "from datetime import datetime\n",
    "from pandas import Series\n",
    "%matplotlib inline\n",
    "import warnings\n",
    "\n"
   ]
  },
  {
   "cell_type": "code",
   "execution_count": 10,
   "metadata": {},
   "outputs": [],
   "source": [
    "train=pd.read_csv(\"Train_SU63ISt.csv\")\n",
    "test=pd.read_csv(\"Test_0qrQsBZ.csv\")\n",
    "\n",
    "train_original=train.copy()\n",
    "test_original=test.copy()"
   ]
  },
  {
   "cell_type": "code",
   "execution_count": 21,
   "metadata": {},
   "outputs": [
    {
     "name": "stdout",
     "output_type": "stream",
     "text": [
      "train columns Index(['ID', 'Datetime', 'Count'], dtype='object')\n",
      "test columns Index(['ID', 'Datetime'], dtype='object')\n",
      "train data type ID           int64\n",
      "Datetime    object\n",
      "Count        int64\n",
      "dtype: object\n",
      "test data type ID           int64\n",
      "Datetime    object\n",
      "dtype: object\n",
      "train shape (18288, 3)\n",
      "test shape (5112, 2)\n"
     ]
    }
   ],
   "source": [
    "print(\"train columns\",train.columns)\n",
    "print(\"test columns\",test.columns)\n",
    "print(\"train data type\",train.dtypes)\n",
    "print(\"test data type\",test.dtypes)\n",
    "print(\"train shape\",train.shape)\n",
    "print(\"test shape\",test.shape)"
   ]
  },
  {
   "cell_type": "code",
   "execution_count": 29,
   "metadata": {},
   "outputs": [
    {
     "data": {
      "text/plain": [
       "ID                   int64\n",
       "Datetime    datetime64[ns]\n",
       "Count                int64\n",
       "dtype: object"
      ]
     },
     "execution_count": 29,
     "metadata": {},
     "output_type": "execute_result"
    }
   ],
   "source": [
    "train['Datetime']=pd.to_datetime(train.Datetime,format='%d-%m-%Y %H:%M')\n",
    "test['Datetime']=pd.to_datetime(test.Datetime,format='%d-%m-%Y %H:%M')\n",
    "train.head()\n",
    "train.dtypes\n"
   ]
  },
  {
   "cell_type": "raw",
   "metadata": {},
   "source": [
    "t"
   ]
  },
  {
   "cell_type": "code",
   "execution_count": null,
   "metadata": {},
   "outputs": [],
   "source": []
  }
 ],
 "metadata": {
  "kernelspec": {
   "display_name": "Python 3",
   "language": "python",
   "name": "python3"
  },
  "language_info": {
   "codemirror_mode": {
    "name": "ipython",
    "version": 3
   },
   "file_extension": ".py",
   "mimetype": "text/x-python",
   "name": "python",
   "nbconvert_exporter": "python",
   "pygments_lexer": "ipython3",
   "version": "3.7.4"
  }
 },
 "nbformat": 4,
 "nbformat_minor": 2
}
